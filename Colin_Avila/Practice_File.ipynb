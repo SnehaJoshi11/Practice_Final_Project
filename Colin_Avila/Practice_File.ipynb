{
 "cells": [
  {
   "cell_type": "code",
   "execution_count": 2,
   "id": "fa0623d6",
   "metadata": {},
   "outputs": [
    {
     "name": "stdout",
     "output_type": "stream",
     "text": [
      "Hello...Lets Start Final Project Segment 1\n"
     ]
    }
   ],
   "source": [
    "print(\"Hello...Lets Start Final Project Segment 1\")"
   ]
  },
  {
   "cell_type": "code",
   "execution_count": 3,
   "id": "04a50f4c",
   "metadata": {},
   "outputs": [
    {
     "name": "stdout",
     "output_type": "stream",
     "text": [
      "We are going to make it happen....\n"
     ]
    }
   ],
   "source": [
    "print(\"We are going to make it happen....\")"
   ]
  },
  {
   "cell_type": "code",
   "execution_count": null,
   "id": "bba74026",
   "metadata": {},
   "outputs": [],
   "source": [
    "I am on challenge 19 Deliverable 2 "
   ]
  },
  {
   "cell_type": "code",
   "execution_count": null,
   "id": "d838f962",
   "metadata": {},
   "outputs": [],
   "source": []
  }
 ],
 "metadata": {
  "kernelspec": {
   "display_name": "PythonData",
   "language": "python",
   "name": "pythondata"
  },
  "language_info": {
   "codemirror_mode": {
    "name": "ipython",
    "version": 3
   },
   "file_extension": ".py",
   "mimetype": "text/x-python",
   "name": "python",
   "nbconvert_exporter": "python",
   "pygments_lexer": "ipython3",
   "version": "3.9.7"
  }
 },
 "nbformat": 4,
 "nbformat_minor": 5
}
