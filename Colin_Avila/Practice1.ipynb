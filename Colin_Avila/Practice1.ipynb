{
 "cells": [
  {
   "cell_type": "code",
   "execution_count": 2,
   "id": "47e22d08",
   "metadata": {},
   "outputs": [
    {
     "name": "stdout",
     "output_type": "stream",
     "text": [
      "Hello...Lets Start Final Project Segment 1\n"
     ]
    }
   ],
   "source": [
    "print(\"Hello...Lets Start Final Project Segment 1\")"
   ]
  },
  {
   "cell_type": "code",
   "execution_count": null,
   "id": "84329ae0",
   "metadata": {},
   "outputs": [],
   "source": [
    "Hi Team, lets do an awesome job!"
   ]
  }
 ],
 "metadata": {
  "kernelspec": {
   "display_name": "PythonData",
   "language": "python",
   "name": "pythondata"
  },
  "language_info": {
   "codemirror_mode": {
    "name": "ipython",
    "version": 3
   },
   "file_extension": ".py",
   "mimetype": "text/x-python",
   "name": "python",
   "nbconvert_exporter": "python",
   "pygments_lexer": "ipython3",
   "version": "3.9.7"
  }
 },
 "nbformat": 4,
 "nbformat_minor": 5
}
